{
 "cells": [
  {
   "cell_type": "markdown",
   "metadata": {},
   "source": [
    "<h1> Introdução </h1>\n",
    "\n",
    "<p> O tema selecionado para análise foi a <b>Avaliação de Risco de Crédito</b> por sua relevância no mercado econômico e financeiro bem como por sua complexidade, fomentando a aplicação comparativa de diversas técnicas de análises preditivas </p>\n",
    "\n",
    "<h3> Fonte de Dados </h3>\n",
    "<p> A base de dados utilizada neste estudo foi obtida no site de competições em ciência de dados kaggle.com, <a href=https://www.kaggle.com/wendykan/lending-club-loan-data/home>Lending Club Load Data </a> e consiste em um conjunto de dados completo de empréstimos concedidos a clientes entre 2007-2015, incluindo o status atual do empréstimo (calculado até à data de publicação do dataset). \n",
    "<br>Os recursos adicionais incluem pontuação de crédito, número de consultas financeiras, endereço entre outros. O arquivo é uma tabela de cerca de 890 mil observações e 75 variáveis. Um dicionário de dados (table metadata) é fornecido em um arquivo separado </p>\n",
    "\n",
    "<h3>Objetivo</h3>\n",
    "<p>Contruir um modelo que preveja se um pedido de empréstimo será honrado (loan_status=\"Fully Paid\" ou \"Current\") ou não (loan_status=\"Demais valores\")</p>\n",
    "\n",
    "<h3>Metodologia</h3>\n",
    "<p>A metodologia de análise será composta das seguintes etapas</p>\n",
    "<ol>\n",
    "    <li>Avaliação Preliminar</li>\n",
    "    <li>Análise Descritiva</li>\n",
    "    <li>Limpeza e Tratamento dos Dados</li>\n",
    "    <li>Treinamento do modelo: <b>Regressão Logística</b></li>\n",
    "    <li>Treinamento do modelo: <b>Árvore de Decisão</b></li>\n",
    "    <li>Comparação de Performance</li>\n",
    "    <li>Conclusão</li>\n",
    "</ol>\n",
    "\n"
   ]
  },
  {
   "cell_type": "markdown",
   "metadata": {},
   "source": [
    "<h2>1 - Avaliação Preliminar</h2>\n",
    "<ul>\n",
    "    <li>Leitura da base de dados</li>\n",
    "    <li>Validação do tamanho da base</li>\n",
    "    <li>Compreensão das variáveis disponíveis</li>\n",
    "    <li>Quantificação dos valores faltantes (missing values)</li>\n",
    "    <li>Identificação da variávei alvo <b>(target)</b></li>\n",
    "</ul>\n"
   ]
  },
  {
   "cell_type": "markdown",
   "metadata": {},
   "source": [
    "<h3>Leitura da base de dados</h3>"
   ]
  },
  {
   "cell_type": "code",
   "execution_count": null,
   "metadata": {
    "collapsed": true
   },
   "outputs": [],
   "source": [
    "#importing python data analysis libraries\n",
    "import pandas as pd\n",
    "import numpy as np\n",
    "import matplotlib.pyplot as plt\n",
    "import seaborn as sns\n",
    "import warnings\n",
    "import gc\n",
    "import matplotlib.font_manager as fm\n",
    "\n",
    "#configuring appearence styles\n",
    "sns.set_style('whitegrid')\n",
    "warnings.simplefilter(action='ignore', category=FutureWarning)\n",
    "warnings.simplefilter(action='ignore', category=DeprecationWarning)\n",
    "warnings.simplefilter(action='ignore', category=Warning)\n",
    "%matplotlib inline\n",
    "\n",
    "fontsize2use = 12   \n",
    "fontprop = fm.FontProperties(size=fontsize2use)\n",
    "\n",
    "# Disable display truncation \n",
    "pd.set_option('display.max_columns', 0)\n",
    "pd.set_option('display.max_rows', 500)"
   ]
  },
  {
   "cell_type": "code",
   "execution_count": null,
   "metadata": {
    "collapsed": true
   },
   "outputs": [],
   "source": [
    "raw_data = pd.read_csv('../loan.csv',low_memory=False)"
   ]
  },
  {
   "cell_type": "markdown",
   "metadata": {},
   "source": [
    "<h4>Visualização do tamanho e dimensões da base </h4>"
   ]
  },
  {
   "cell_type": "code",
   "execution_count": null,
   "metadata": {},
   "outputs": [],
   "source": [
    "def print_shape(dataframe):\n",
    "    shape = dataframe.shape\n",
    "    print(\"As dimensões da base são: \\n\\n \\\n",
    "            Quantidade de Observações: {} \\n \\\n",
    "            Quantidade de Variáveis  : {}\".format(shape[0],shape[1]))\n",
    "    \n",
    "print_shape(raw_data)"
   ]
  },
  {
   "cell_type": "markdown",
   "metadata": {},
   "source": [
    "<h4> Retira uma amostra aleatória do Dataset para reduzir consumo de memória </h4>\n",
    "<p>O tamanho da amostra corresponde a 25% do tamanho original do dataset</p>"
   ]
  },
  {
   "cell_type": "code",
   "execution_count": null,
   "metadata": {},
   "outputs": [],
   "source": [
    "df = raw_data.sample(frac=.25).copy()\n",
    "print_shape(df)"
   ]
  },
  {
   "cell_type": "markdown",
   "metadata": {},
   "source": [
    "<h4>Visualização dos nomes e metadados das colunas para compreensão das variáveis disponíveis</h4> \n",
    "<p>Neste ponto, o arquivo de metadados disponibilizado pelo kaggle é utilizado para compreender o significado de cada variável existente no dataset </p>"
   ]
  },
  {
   "cell_type": "code",
   "execution_count": null,
   "metadata": {},
   "outputs": [],
   "source": [
    "df.columns"
   ]
  },
  {
   "cell_type": "code",
   "execution_count": null,
   "metadata": {},
   "outputs": [],
   "source": [
    "df_metadata = pd.read_excel(io='../LCDataDictionary.xlsx').dropna()\n",
    "df_metadata.style.set_properties(subset=['Description'], **{'width': '1000px'})"
   ]
  },
  {
   "cell_type": "markdown",
   "metadata": {
    "collapsed": true
   },
   "source": [
    "<h4> Quantificação dos valores faltantes (missing)</h4>"
   ]
  },
  {
   "cell_type": "code",
   "execution_count": null,
   "metadata": {},
   "outputs": [],
   "source": [
    "#Definição de função de avaliação quantitativa de valores ausentes em um dado Pandas.DataFrame\n",
    "def missing_values(dataframe):\n",
    "        mis_val = dataframe.isnull().sum()\n",
    "        mis_val_percent = 100 * (dataframe.isnull().sum() / len(dataframe))\n",
    "        mis_val_table = pd.concat([mis_val, mis_val_percent], axis=1)\n",
    "        mis_val_table_ren_columns = mis_val_table.rename(\n",
    "            columns = {0 : 'Missing Values', 1 : '% of Total Values'}\n",
    "        )\n",
    "        mis_val_table_ren_columns = mis_val_table_ren_columns[\n",
    "            mis_val_table_ren_columns.iloc[:,1] != 0\n",
    "        ].sort_values(\n",
    "            '% of Total Values', ascending=False\n",
    "        ).round(1)\n",
    "        \n",
    "        qtd_columns_over_limit = len(mis_val_table_ren_columns[mis_val_table_ren_columns['% of Total Values']>70.0])\n",
    "        \n",
    "        print(\"O Dataset possui \" + str(df.shape[1]) + \" colunas.\\n\"\n",
    "                + str(mis_val_table_ren_columns.shape[0]) + \n",
    "                \" Colunas possuem valores ausentes. \\n\" \n",
    "                + str(qtd_columns_over_limit) +\n",
    "                \" Colunas cuja proporção de valores ausentes ultrapassa 70% das observações\")\n",
    "        \n",
    "        return mis_val_table_ren_columns\n",
    "    \n",
    "#Quantifica os valores faltantes no dataset estudado    \n",
    "missing_statistics = missing_values(df)\n",
    "missing_statistics[missing_statistics['% of Total Values']>70.0]"
   ]
  },
  {
   "cell_type": "code",
   "execution_count": null,
   "metadata": {},
   "outputs": [],
   "source": [
    "plt.Figure(figsize=(15,5))\n",
    "missing_statistics[\n",
    "                   missing_statistics['% of Total Values'] > 0.0\n",
    "                  ]['% of Total Values'].plot(\n",
    "                        kind='bar',\n",
    "                        figsize=(15,5),\n",
    "                        fontsize=15\n",
    "                    )\n",
    "plt.show()"
   ]
  },
  {
   "cell_type": "markdown",
   "metadata": {},
   "source": [
    "<p> O gráfico acima mostra que a base de dados possui algumas colunas com um percentual muito alto de observações nulas ou faltantes (acima de 75%, exemplos: `dti_joint`,`annual_inc_joint`,`verification_status_joint`) e que deverão ser tratadas/removidas para a modelagem</p>"
   ]
  },
  {
   "cell_type": "code",
   "execution_count": null,
   "metadata": {},
   "outputs": [],
   "source": [
    "#exclusão de colunas com mais de 70% de valores ausentes (missing)\n",
    "df.drop(labels=missing_statistics[missing_statistics['% of Total Values'] > 70.0].index,\n",
    "        axis=1,\n",
    "        inplace=True)\n",
    "print_shape(df)"
   ]
  },
  {
   "cell_type": "markdown",
   "metadata": {
    "collapsed": true
   },
   "source": [
    "<h4> Identificação da variávei alvo (target)</h4>\n",
    "<p>A coluna que contém a variável alvo do estudo é a <b>Loan Status</b>. Esta variável representa a situação corrente do título de empréstimo no momento da publicação do dataset (Current, Late, Fully Paid, etc...).</p>"
   ]
  },
  {
   "cell_type": "code",
   "execution_count": null,
   "metadata": {},
   "outputs": [],
   "source": [
    "plt.figure(figsize=(12,6))\n",
    "plt.ylabel('Loan Status')\n",
    "plt.xlabel('count')\n",
    "df['loan_status'].value_counts().plot(kind='barh',grid=True,fontsize=12)\n",
    "plt.show()"
   ]
  },
  {
   "cell_type": "code",
   "execution_count": null,
   "metadata": {},
   "outputs": [],
   "source": [
    "#Calcula proporção de empréstimos \"Bons\" e \"Maus\"\n",
    "good_loan = len(df[(df.loan_status=='Fully Paid') |\n",
    "                   (df.loan_status=='Current')])\n",
    "\n",
    "good_loan_ratio = good_loan/len(df)\n",
    "bad_loan_ratio = 1-good_loan_ratio\n",
    "\n",
    "print(\"Taxa de Bons Empréstimos: %.2f%%\" % (good_loan_ratio*100))\n",
    "print(\"Taxa de Maus Empréstimos: %.2f%%\" % (bad_loan_ratio*100))\n",
    "\n",
    "pie_target_ratio = pd.Series({\n",
    "    \"Bons Empréstimos\":(good_loan_ratio*100),\n",
    "    \"Maus Empréstimos\":(bad_loan_ratio*100)\n",
    "})\n",
    "\n",
    "plt.figure(figsize=(5,5))\n",
    "plt.pie(x=pie_target_ratio,labels=pie_target_ratio.index)\n",
    "plt.show()"
   ]
  },
  {
   "cell_type": "markdown",
   "metadata": {},
   "source": [
    "<h4>Observação</h4>\n",
    "<p>A proporção acima mostra claramente que se trata de um caso em que a classe alvo está desbalanceada. Isto significa que uma determinada classe de observações da variável alvo (loan_status) apresenta uma proporção muito superior superior do que as demais na base e acaba dominando o modelo.</p>\n",
    "<p> Esta característica deverá ser tratada ao longo do estudo, utilizando técnicas apropriadas </p>"
   ]
  },
  {
   "cell_type": "code",
   "execution_count": null,
   "metadata": {},
   "outputs": [],
   "source": [
    "#Define a variável target (alvo)\n",
    "## 1 = Empréstimo Honrado (\"Fully Paid\" ou \"Current\")\n",
    "## 0 = Empréstimo Não Honrado (Demais Categorias)\n",
    "df['target'] = df['loan_status'].apply(lambda value: 1 if value in (\"Fully Paid\",\"Current\") else 0)\n",
    "df.drop('loan_status',axis=1,inplace=True)\n",
    "df.head()"
   ]
  },
  {
   "cell_type": "markdown",
   "metadata": {},
   "source": [
    "<h2>2 - Análise Descritiva</h2>\n",
    "<ul>\n",
    "    <li>Medidas de Centralidade/Variabilidade (variáveis numéricas)</li>\n",
    "    <li>Medidas de Frequência/Classes Distintas (variáveis categóricas)</li>\n",
    "</ul>\n"
   ]
  },
  {
   "cell_type": "markdown",
   "metadata": {},
   "source": [
    "<h4>Avaliação dos tipos de variáveis (Numéricas/Categóricas)</h4>\n",
    "<p>Por definição (pandas.DataFrame), as variáveis numéricas no Dataset são classificadas como `float64` ou `int64`, enquanto as categóricas são classificadas como `object`</p>"
   ]
  },
  {
   "cell_type": "code",
   "execution_count": null,
   "metadata": {},
   "outputs": [],
   "source": [
    "# Quantidade de tipos de dados diferentes no dataset\n",
    "print_shape(df)\n",
    "print(\"\\n\")\n",
    "\n",
    "\n",
    "#função para exibir graficamente a composição de dados de um dado dataset\n",
    "def print_dtypes(dataframe):\n",
    "    print(\"Quantidade de cada Tipo de Dados existente na base \\n\")\n",
    "    print(dataframe.dtypes.value_counts())\n",
    "\n",
    "    plt.figure()\n",
    "    dataframe.dtypes.value_counts().plot(kind='pie')\n",
    "    plt.title('Número de colunas distribuído por tipo de dados',fontsize=20)\n",
    "    \n",
    "print_dtypes(df)"
   ]
  },
  {
   "cell_type": "markdown",
   "metadata": {},
   "source": [
    "<p>O gráfico acima nos mostra que temos uma quantidade considerável de colunas com valores do tipo `object` (variáveis categóricas) que deverão ser tratadas e/ou removidas para uso no modelo </p>"
   ]
  },
  {
   "cell_type": "markdown",
   "metadata": {},
   "source": [
    "<h4>Avaliação das variáveis categóricas</h4>\n",
    "<p>Quantificação e frequência das classes únicas existentes em cada variável categórica do dataset</p>"
   ]
  },
  {
   "cell_type": "code",
   "execution_count": null,
   "metadata": {},
   "outputs": [],
   "source": [
    "category = pd.DataFrame({ 'qtd_unicos': df.select_dtypes(include=['object']).apply(pd.Series.nunique, axis = 0)})  \n",
    "category['perc_unicos'] = category['qtd_unicos'].apply(lambda x: (float(x)/len(df))*100)\n",
    "\n",
    "print(\"Variáveis categóricas e ocorrências distintas pela base \\n\")\n",
    "print(category.sort_values(by='perc_unicos',ascending=False))\n",
    "\n",
    "#plota o gráfico de barras por percentual de categorias únicas\n",
    "category['perc_unicos'].sort_values(ascending=False).head(10).plot.bar(\n",
    "    figsize=(20,5),\n",
    "    fontsize=14,\n",
    "    title='Top 10 variáveis com maior % de categorias distintas')"
   ]
  },
  {
   "cell_type": "markdown",
   "metadata": {},
   "source": [
    "<p> O gráfico acima nos mostra que algumas variáveis possuem alta variabilidade (número extremamente alto de categorias distintas). É o caso das variáveis `url`,`emp_title`,`title` e `title`. Estas variáveis possuem alto número de categorias distintas, o que indica aleatoriedade e prejudica a assertividade do modelo.<p>\n",
    "\n",
    "<p> Estas variáveis serão desconsideradas na análise </p>"
   ]
  },
  {
   "cell_type": "code",
   "execution_count": null,
   "metadata": {},
   "outputs": [],
   "source": [
    "df.drop(['url','emp_title','title'],axis=1,inplace=True)\n",
    "print_shape(df)\n",
    "print(\"\\n\")\n",
    "print_dtypes(df)"
   ]
  },
  {
   "cell_type": "code",
   "execution_count": null,
   "metadata": {
    "collapsed": true
   },
   "outputs": [],
   "source": [
    "#função para plotar uma lista de gráficos de pizza com a composição de frequencias para cada variávei categórica, \n",
    "## dado um dataframe\n",
    "def plot_categories_distribution(dataframe):\n",
    "    categories = dataframe.select_dtypes(include=['object']).columns.sort_values()\n",
    "    m = len(categories)\n",
    "    fig,axes = plt.subplots(6,int(m/5),sharey=True,figsize=(10,15))\n",
    "\n",
    "    \n",
    "    for n in range(len(axes.flat)):\n",
    "        try:\n",
    "            ax = axes.flat[n]\n",
    "            item = categories[n]\n",
    "            group = dataframe.groupby(item).size()\n",
    "\n",
    "            ax.pie(group)\n",
    "            ax.set_title(item)    \n",
    "        except:\n",
    "            #caso não exista mais categorias a iterar, finaliza a execução da função\n",
    "            return"
   ]
  },
  {
   "cell_type": "code",
   "execution_count": null,
   "metadata": {},
   "outputs": [],
   "source": [
    "df.select_dtypes(include=['object']).describe()"
   ]
  },
  {
   "cell_type": "markdown",
   "metadata": {},
   "source": [
    "<p> A tabela acima mostra de forma resumida a composição de cada variável categórica existente. Estão consolidadas medidas básicas como \n",
    "<ul> \n",
    "    <li>Quantidade (count) </li> \n",
    "    <li> Quantidade de Valores distintos (unique)</li> \n",
    "    <li>Classe mais comum (top)</li>\n",
    "    <li>Frequência da classe mais comum (freq)</li>\n",
    "</ul>\n",
    "</p>\n",
    "<p> É possível verificar que muitas variáveis são compostas de texto puro/alta variação de categorias, que deverão ser codificados e/ou removidos para treinamento do modelo </p>\n",
    "<p> Além disso, algumas variáveis apresentam variação quase nula na base (ex.: `pymnt_plan` e `application_type`), o que indica que tais variáveis deverão ser removidas </p>"
   ]
  },
  {
   "cell_type": "code",
   "execution_count": null,
   "metadata": {},
   "outputs": [],
   "source": [
    "plot_categories_distribution(df)"
   ]
  },
  {
   "cell_type": "markdown",
   "metadata": {},
   "source": [
    "<p> A relação de gráficos acima ilustra de forma visual a frequência por categoria em cada uma das variáveis categóricas do modelo </p>"
   ]
  },
  {
   "cell_type": "code",
   "execution_count": null,
   "metadata": {
    "collapsed": true
   },
   "outputs": [],
   "source": [
    "# Remove as colunas pymnt_plan e application_type\n",
    "df.drop([    'zip_code',\n",
    "             'verification_status',\n",
    "             'home_ownership',\n",
    "             'issue_d',\n",
    "             'earliest_cr_line',\n",
    "             'last_pymnt_d',\n",
    "             'next_pymnt_d',\n",
    "#             'desc',\n",
    "#             'pymnt_plan',\n",
    "#             'initial_list_status',\n",
    "#             'addr_state',\n",
    "             'last_credit_pull_d'],axis=1,inplace=True)"
   ]
  },
  {
   "cell_type": "code",
   "execution_count": null,
   "metadata": {},
   "outputs": [],
   "source": [
    "df.select_dtypes(include=['object']).head(10)"
   ]
  },
  {
   "cell_type": "markdown",
   "metadata": {
    "collapsed": true
   },
   "source": [
    "<h4>Avaliação das variáveis numéricas</h4>\n",
    "<p>Medidas de Centralidade e Variabilidade existentes em cada variável numérica do dataset. </p>"
   ]
  },
  {
   "cell_type": "code",
   "execution_count": null,
   "metadata": {},
   "outputs": [],
   "source": [
    "df.select_dtypes(include=['float64','int64']).columns"
   ]
  },
  {
   "cell_type": "markdown",
   "metadata": {},
   "source": [
    "<p> Removendo as colunas `id` e `member_id` pois tratam-se de valores únicos de identificação dos contratos no dataset e não têm valor para a análise </p> "
   ]
  },
  {
   "cell_type": "code",
   "execution_count": null,
   "metadata": {},
   "outputs": [],
   "source": [
    "df.drop(['id','member_id'],axis=1, inplace=True)\n",
    "print_shape(df)"
   ]
  },
  {
   "cell_type": "code",
   "execution_count": null,
   "metadata": {
    "collapsed": true
   },
   "outputs": [],
   "source": [
    "def plot_numeric_histogram(dataframe):\n",
    "    categories = dataframe.select_dtypes(include=['float64','int64']).columns\n",
    "    m = len(categories)\n",
    "    fig,axes = plt.subplots(6,int(m/5),figsize=(30,35))\n",
    "\n",
    "    \n",
    "    for n in range(len(axes.flat)-1):\n",
    "        try:\n",
    "            ax = axes.flat[n]\n",
    "            item = categories[n]\n",
    "            group = dataframe.groupby(item).size()\n",
    "        \n",
    "            ax.hist(group,bins=10,)\n",
    "            ax.set_title(item,fontsize=10)  \n",
    "        except:\n",
    "            #caso não encontre mais itens  para iterar\n",
    "            return"
   ]
  },
  {
   "cell_type": "code",
   "execution_count": null,
   "metadata": {},
   "outputs": [],
   "source": [
    "df.select_dtypes(include=['float64','int64']).describe()"
   ]
  },
  {
   "cell_type": "markdown",
   "metadata": {},
   "source": [
    "<p> A tabela acima mostra de forma resumida um conjunto básico de medidas descritivas para cada variávei numérica existente no dataset. Entre elas:\n",
    "<ul> \n",
    "    <li>Quantidade (count) </li> \n",
    "    <li> Média (mean)</li> \n",
    "    <li> Desvio Padrão (std)</li>\n",
    "    <li> Valores Máximos e mínimos (max/min)</li>\n",
    "    <li> Percentis (25%, 50%, 75%) </li>\n",
    "</ul>\n",
    "</p>"
   ]
  },
  {
   "cell_type": "code",
   "execution_count": null,
   "metadata": {},
   "outputs": [],
   "source": [
    "plot_numeric_histogram(df)"
   ]
  },
  {
   "cell_type": "markdown",
   "metadata": {},
   "source": [
    "<h2>3 - Limpeza e Tratamento dos Dados</h2>\n",
    "<ul>\n",
    "   <li>Transformação das variáveis categóricas relevantes (encoding e hot-encoding)</li>\n",
    "   <li>Normalização/Agrupamento das variáveis numéricas </li>\n",
    "</ul>\n"
   ]
  },
  {
   "cell_type": "code",
   "execution_count": null,
   "metadata": {},
   "outputs": [],
   "source": [
    "df.info()"
   ]
  },
  {
   "cell_type": "markdown",
   "metadata": {},
   "source": [
    "<p> Primeiramente, os valores de data serão convertidos em inteiros pelo número do ano para evitar crescimento muito grande de colunas pelo hot-encoding. Para preencher os valores faltantes, foi utilizada a data com o maior número de ocorrências </p>"
   ]
  },
  {
   "cell_type": "code",
   "execution_count": null,
   "metadata": {
    "collapsed": true
   },
   "outputs": [],
   "source": [
    "df['issue_d']= pd.to_datetime(df['issue_d']).apply(lambda x: int(x.strftime('%Y')))\n",
    "df['last_pymnt_d']= pd.to_datetime(df['last_pymnt_d'].fillna('2016-01-01')).apply(lambda x: int(x.strftime('%m')))\n",
    "df['last_credit_pull_d']= pd.to_datetime(df['last_credit_pull_d'].fillna(\"2016-01-01\")).apply(lambda x: int(x.strftime('%m')))\n",
    "df['earliest_cr_line']= pd.to_datetime(df['earliest_cr_line'].fillna('2001-08-01')).apply(lambda x: int(x.strftime('%m')))\n",
    "df['next_pymnt_d'] = pd.to_datetime(df['next_pymnt_d'].fillna(value = '2016-02-01')).apply(lambda x:int(x.strftime(\"%Y\")))"
   ]
  },
  {
   "cell_type": "markdown",
   "metadata": {
    "collapsed": true
   },
   "source": [
    "<h4>emp_length</h4>\n",
    "<p>Os valores faltantes serão preenchidos com 0 assumindo que o tomador do empréstimo não trabalhou até a data de medição </p>"
   ]
  },
  {
   "cell_type": "code",
   "execution_count": null,
   "metadata": {},
   "outputs": [],
   "source": [
    "df['emp_length'].fillna(value=0,inplace=True)\n",
    "df['emp_length'].replace(to_replace='[^0-9]+', value='', inplace=True, regex=True)\n",
    "df['emp_length'].value_counts().sort_values().plot(kind='bar',figsize=(18,8))\n",
    "plt.title('Number of loans distributed by Employment Years',fontsize=20)\n",
    "plt.xlabel('Number of loans',fontsize=15)\n",
    "plt.ylabel('Years worked',fontsize=15);"
   ]
  },
  {
   "cell_type": "markdown",
   "metadata": {},
   "source": [
    "<p> Aplica o hot-encoding nas variáveis categóricas </p>"
   ]
  },
  {
   "cell_type": "code",
   "execution_count": null,
   "metadata": {},
   "outputs": [],
   "source": [
    "from sklearn import preprocessing\n",
    "\n",
    "def label_encode(dataframe):\n",
    "    for col in dataframe:\n",
    "        if dataframe[col].dtype == 'object':\n",
    "            if len(list(dataframe[col].unique())) <= 2:     \n",
    "                le = preprocessing.LabelEncoder()\n",
    "                dataframe[col] = le.fit_transform(dataframe[col])\n",
    "                count += 1\n",
    "                print (col)\n",
    "            \n",
    "    print('%d columns were label encoded.' % count)"
   ]
  },
  {
   "cell_type": "markdown",
   "metadata": {},
   "source": [
    "<p> Remove as variáveis que sofreram o hot-encoding </p>"
   ]
  },
  {
   "cell_type": "code",
   "execution_count": null,
   "metadata": {
    "collapsed": true
   },
   "outputs": [],
   "source": []
  }
 ],
 "metadata": {
  "kernelspec": {
   "display_name": "Python 2",
   "language": "python",
   "name": "python2"
  },
  "language_info": {
   "codemirror_mode": {
    "name": "ipython",
    "version": 3
   },
   "file_extension": ".py",
   "mimetype": "text/x-python",
   "name": "python",
   "nbconvert_exporter": "python",
   "pygments_lexer": "ipython3",
   "version": "3.6.5"
  },
  "varInspector": {
   "cols": {
    "lenName": 16,
    "lenType": 16,
    "lenVar": 40
   },
   "kernels_config": {
    "python": {
     "delete_cmd_postfix": "",
     "delete_cmd_prefix": "del ",
     "library": "var_list.py",
     "varRefreshCmd": "print(var_dic_list())"
    },
    "r": {
     "delete_cmd_postfix": ") ",
     "delete_cmd_prefix": "rm(",
     "library": "var_list.r",
     "varRefreshCmd": "cat(var_dic_list()) "
    }
   },
   "types_to_exclude": [
    "module",
    "function",
    "builtin_function_or_method",
    "instance",
    "_Feature"
   ],
   "window_display": false
  }
 },
 "nbformat": 4,
 "nbformat_minor": 2
}
